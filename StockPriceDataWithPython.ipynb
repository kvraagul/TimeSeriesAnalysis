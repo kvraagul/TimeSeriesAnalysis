{
  "nbformat": 4,
  "nbformat_minor": 0,
  "metadata": {
    "colab": {
      "name": "StockPriceDataWithPython.ipynb",
      "provenance": [],
      "authorship_tag": "ABX9TyMgj5guv4R/zeRLYp5adBky",
      "include_colab_link": true
    },
    "kernelspec": {
      "name": "python3",
      "display_name": "Python 3"
    },
    "language_info": {
      "name": "python"
    }
  },
  "cells": [
    {
      "cell_type": "markdown",
      "metadata": {
        "id": "view-in-github",
        "colab_type": "text"
      },
      "source": [
        "<a href=\"https://colab.research.google.com/github/kvraagul/TimeSeriesAnalysis/blob/main/StockPriceDataWithPython.ipynb\" target=\"_parent\"><img src=\"https://colab.research.google.com/assets/colab-badge.svg\" alt=\"Open In Colab\"/></a>"
      ]
    },
    {
      "cell_type": "markdown",
      "metadata": {
        "id": "54MGduzVmRYw"
      },
      "source": [
        "**Install Yahoo Finance**"
      ]
    },
    {
      "cell_type": "code",
      "metadata": {
        "colab": {
          "base_uri": "https://localhost:8080/"
        },
        "id": "WeMi2sfekcCW",
        "outputId": "9fb4157c-0149-48a6-c2ab-09d56d1f2993"
      },
      "source": [
        "!pip install yfinance"
      ],
      "execution_count": 1,
      "outputs": [
        {
          "output_type": "stream",
          "text": [
            "Collecting yfinance\n",
            "  Downloading https://files.pythonhosted.org/packages/5e/4e/88d31f5509edcbc51bcbb7eeae72516b17ada1bc2ad5b496e2d05d62c696/yfinance-0.1.60.tar.gz\n",
            "Requirement already satisfied: pandas>=0.24 in /usr/local/lib/python3.7/dist-packages (from yfinance) (1.1.5)\n",
            "Requirement already satisfied: numpy>=1.15 in /usr/local/lib/python3.7/dist-packages (from yfinance) (1.19.5)\n",
            "Requirement already satisfied: requests>=2.20 in /usr/local/lib/python3.7/dist-packages (from yfinance) (2.23.0)\n",
            "Requirement already satisfied: multitasking>=0.0.7 in /usr/local/lib/python3.7/dist-packages (from yfinance) (0.0.9)\n",
            "Collecting lxml>=4.5.1\n",
            "\u001b[?25l  Downloading https://files.pythonhosted.org/packages/30/c0/d0526314971fc661b083ab135747dc68446a3022686da8c16d25fcf6ef07/lxml-4.6.3-cp37-cp37m-manylinux2014_x86_64.whl (6.3MB)\n",
            "\u001b[K     |████████████████████████████████| 6.3MB 11.6MB/s \n",
            "\u001b[?25hRequirement already satisfied: python-dateutil>=2.7.3 in /usr/local/lib/python3.7/dist-packages (from pandas>=0.24->yfinance) (2.8.1)\n",
            "Requirement already satisfied: pytz>=2017.2 in /usr/local/lib/python3.7/dist-packages (from pandas>=0.24->yfinance) (2018.9)\n",
            "Requirement already satisfied: urllib3!=1.25.0,!=1.25.1,<1.26,>=1.21.1 in /usr/local/lib/python3.7/dist-packages (from requests>=2.20->yfinance) (1.24.3)\n",
            "Requirement already satisfied: idna<3,>=2.5 in /usr/local/lib/python3.7/dist-packages (from requests>=2.20->yfinance) (2.10)\n",
            "Requirement already satisfied: chardet<4,>=3.0.2 in /usr/local/lib/python3.7/dist-packages (from requests>=2.20->yfinance) (3.0.4)\n",
            "Requirement already satisfied: certifi>=2017.4.17 in /usr/local/lib/python3.7/dist-packages (from requests>=2.20->yfinance) (2021.5.30)\n",
            "Requirement already satisfied: six>=1.5 in /usr/local/lib/python3.7/dist-packages (from python-dateutil>=2.7.3->pandas>=0.24->yfinance) (1.15.0)\n",
            "Building wheels for collected packages: yfinance\n",
            "  Building wheel for yfinance (setup.py) ... \u001b[?25l\u001b[?25hdone\n",
            "  Created wheel for yfinance: filename=yfinance-0.1.60-py2.py3-none-any.whl size=23819 sha256=05f4e10024a826dd5d3a71a0a477cfee8abf45de67898e54592fb3b16cb4d8b4\n",
            "  Stored in directory: /root/.cache/pip/wheels/f0/be/a4/846f02c5985562250917b0ab7b33fff737c8e6e8cd5209aa3b\n",
            "Successfully built yfinance\n",
            "Installing collected packages: lxml, yfinance\n",
            "  Found existing installation: lxml 4.2.6\n",
            "    Uninstalling lxml-4.2.6:\n",
            "      Successfully uninstalled lxml-4.2.6\n",
            "Successfully installed lxml-4.6.3 yfinance-0.1.60\n"
          ],
          "name": "stdout"
        }
      ]
    },
    {
      "cell_type": "code",
      "metadata": {
        "id": "dP3ef4xhkwQh"
      },
      "source": [
        "import yfinance "
      ],
      "execution_count": 8,
      "outputs": []
    },
    {
      "cell_type": "markdown",
      "metadata": {
        "id": "_u7IXrdpmex5"
      },
      "source": [
        "**Define the Ticker Symbol**"
      ]
    },
    {
      "cell_type": "code",
      "metadata": {
        "id": "KTngrlTGk139"
      },
      "source": [
        "ticker_symbol = 'AAPL'"
      ],
      "execution_count": 9,
      "outputs": []
    },
    {
      "cell_type": "markdown",
      "metadata": {
        "id": "t4w5FpDbmqMA"
      },
      "source": [
        "**Get data on this Ticker**"
      ]
    },
    {
      "cell_type": "code",
      "metadata": {
        "id": "9TMvIcPYk17j"
      },
      "source": [
        "ticker_data = yfinance.Ticker(ticker_symbol)"
      ],
      "execution_count": 10,
      "outputs": []
    },
    {
      "cell_type": "markdown",
      "metadata": {
        "id": "CrEZ5MlGmt8X"
      },
      "source": [
        "**Get the historical prices for this Ticker**"
      ]
    },
    {
      "cell_type": "code",
      "metadata": {
        "id": "GJPX4cjKk1-v"
      },
      "source": [
        "df = ticker_data.history(period='1d',start='2021-06-01',end='2021-07-01')"
      ],
      "execution_count": 11,
      "outputs": []
    },
    {
      "cell_type": "code",
      "metadata": {
        "colab": {
          "base_uri": "https://localhost:8080/",
          "height": 728
        },
        "id": "hx2SYaU8k2CA",
        "outputId": "f667d8be-5f29-4b40-bc2b-2dab569b6304"
      },
      "source": [
        "df"
      ],
      "execution_count": 12,
      "outputs": [
        {
          "output_type": "execute_result",
          "data": {
            "text/html": [
              "<div>\n",
              "<style scoped>\n",
              "    .dataframe tbody tr th:only-of-type {\n",
              "        vertical-align: middle;\n",
              "    }\n",
              "\n",
              "    .dataframe tbody tr th {\n",
              "        vertical-align: top;\n",
              "    }\n",
              "\n",
              "    .dataframe thead th {\n",
              "        text-align: right;\n",
              "    }\n",
              "</style>\n",
              "<table border=\"1\" class=\"dataframe\">\n",
              "  <thead>\n",
              "    <tr style=\"text-align: right;\">\n",
              "      <th></th>\n",
              "      <th>Open</th>\n",
              "      <th>High</th>\n",
              "      <th>Low</th>\n",
              "      <th>Close</th>\n",
              "      <th>Volume</th>\n",
              "      <th>Dividends</th>\n",
              "      <th>Stock Splits</th>\n",
              "    </tr>\n",
              "    <tr>\n",
              "      <th>Date</th>\n",
              "      <th></th>\n",
              "      <th></th>\n",
              "      <th></th>\n",
              "      <th></th>\n",
              "      <th></th>\n",
              "      <th></th>\n",
              "      <th></th>\n",
              "    </tr>\n",
              "  </thead>\n",
              "  <tbody>\n",
              "    <tr>\n",
              "      <th>2021-06-01</th>\n",
              "      <td>125.080002</td>\n",
              "      <td>125.349998</td>\n",
              "      <td>123.940002</td>\n",
              "      <td>124.279999</td>\n",
              "      <td>67637100</td>\n",
              "      <td>0</td>\n",
              "      <td>0</td>\n",
              "    </tr>\n",
              "    <tr>\n",
              "      <th>2021-06-02</th>\n",
              "      <td>124.279999</td>\n",
              "      <td>125.239998</td>\n",
              "      <td>124.050003</td>\n",
              "      <td>125.059998</td>\n",
              "      <td>59278900</td>\n",
              "      <td>0</td>\n",
              "      <td>0</td>\n",
              "    </tr>\n",
              "    <tr>\n",
              "      <th>2021-06-03</th>\n",
              "      <td>124.680000</td>\n",
              "      <td>124.849998</td>\n",
              "      <td>123.129997</td>\n",
              "      <td>123.540001</td>\n",
              "      <td>76229200</td>\n",
              "      <td>0</td>\n",
              "      <td>0</td>\n",
              "    </tr>\n",
              "    <tr>\n",
              "      <th>2021-06-04</th>\n",
              "      <td>124.070000</td>\n",
              "      <td>126.160004</td>\n",
              "      <td>123.849998</td>\n",
              "      <td>125.889999</td>\n",
              "      <td>75169300</td>\n",
              "      <td>0</td>\n",
              "      <td>0</td>\n",
              "    </tr>\n",
              "    <tr>\n",
              "      <th>2021-06-07</th>\n",
              "      <td>126.169998</td>\n",
              "      <td>126.320000</td>\n",
              "      <td>124.830002</td>\n",
              "      <td>125.900002</td>\n",
              "      <td>71057600</td>\n",
              "      <td>0</td>\n",
              "      <td>0</td>\n",
              "    </tr>\n",
              "    <tr>\n",
              "      <th>2021-06-08</th>\n",
              "      <td>126.599998</td>\n",
              "      <td>128.460007</td>\n",
              "      <td>126.209999</td>\n",
              "      <td>126.739998</td>\n",
              "      <td>74403800</td>\n",
              "      <td>0</td>\n",
              "      <td>0</td>\n",
              "    </tr>\n",
              "    <tr>\n",
              "      <th>2021-06-09</th>\n",
              "      <td>127.209999</td>\n",
              "      <td>127.750000</td>\n",
              "      <td>126.519997</td>\n",
              "      <td>127.129997</td>\n",
              "      <td>56877900</td>\n",
              "      <td>0</td>\n",
              "      <td>0</td>\n",
              "    </tr>\n",
              "    <tr>\n",
              "      <th>2021-06-10</th>\n",
              "      <td>127.019997</td>\n",
              "      <td>128.190002</td>\n",
              "      <td>125.940002</td>\n",
              "      <td>126.110001</td>\n",
              "      <td>71186400</td>\n",
              "      <td>0</td>\n",
              "      <td>0</td>\n",
              "    </tr>\n",
              "    <tr>\n",
              "      <th>2021-06-11</th>\n",
              "      <td>126.529999</td>\n",
              "      <td>127.440002</td>\n",
              "      <td>126.099998</td>\n",
              "      <td>127.349998</td>\n",
              "      <td>53522400</td>\n",
              "      <td>0</td>\n",
              "      <td>0</td>\n",
              "    </tr>\n",
              "    <tr>\n",
              "      <th>2021-06-14</th>\n",
              "      <td>127.820000</td>\n",
              "      <td>130.539993</td>\n",
              "      <td>127.070000</td>\n",
              "      <td>130.479996</td>\n",
              "      <td>96906500</td>\n",
              "      <td>0</td>\n",
              "      <td>0</td>\n",
              "    </tr>\n",
              "    <tr>\n",
              "      <th>2021-06-15</th>\n",
              "      <td>129.940002</td>\n",
              "      <td>130.600006</td>\n",
              "      <td>129.389999</td>\n",
              "      <td>129.639999</td>\n",
              "      <td>62746300</td>\n",
              "      <td>0</td>\n",
              "      <td>0</td>\n",
              "    </tr>\n",
              "    <tr>\n",
              "      <th>2021-06-16</th>\n",
              "      <td>130.369995</td>\n",
              "      <td>130.889999</td>\n",
              "      <td>128.460007</td>\n",
              "      <td>130.149994</td>\n",
              "      <td>91815000</td>\n",
              "      <td>0</td>\n",
              "      <td>0</td>\n",
              "    </tr>\n",
              "    <tr>\n",
              "      <th>2021-06-17</th>\n",
              "      <td>129.800003</td>\n",
              "      <td>132.550003</td>\n",
              "      <td>129.649994</td>\n",
              "      <td>131.789993</td>\n",
              "      <td>96721700</td>\n",
              "      <td>0</td>\n",
              "      <td>0</td>\n",
              "    </tr>\n",
              "    <tr>\n",
              "      <th>2021-06-18</th>\n",
              "      <td>130.710007</td>\n",
              "      <td>131.509995</td>\n",
              "      <td>130.240005</td>\n",
              "      <td>130.460007</td>\n",
              "      <td>108787300</td>\n",
              "      <td>0</td>\n",
              "      <td>0</td>\n",
              "    </tr>\n",
              "    <tr>\n",
              "      <th>2021-06-21</th>\n",
              "      <td>130.300003</td>\n",
              "      <td>132.410004</td>\n",
              "      <td>129.210007</td>\n",
              "      <td>132.300003</td>\n",
              "      <td>79663300</td>\n",
              "      <td>0</td>\n",
              "      <td>0</td>\n",
              "    </tr>\n",
              "    <tr>\n",
              "      <th>2021-06-22</th>\n",
              "      <td>132.130005</td>\n",
              "      <td>134.080002</td>\n",
              "      <td>131.619995</td>\n",
              "      <td>133.979996</td>\n",
              "      <td>74783600</td>\n",
              "      <td>0</td>\n",
              "      <td>0</td>\n",
              "    </tr>\n",
              "    <tr>\n",
              "      <th>2021-06-23</th>\n",
              "      <td>133.770004</td>\n",
              "      <td>134.320007</td>\n",
              "      <td>133.229996</td>\n",
              "      <td>133.699997</td>\n",
              "      <td>60214200</td>\n",
              "      <td>0</td>\n",
              "      <td>0</td>\n",
              "    </tr>\n",
              "    <tr>\n",
              "      <th>2021-06-24</th>\n",
              "      <td>134.449997</td>\n",
              "      <td>134.639999</td>\n",
              "      <td>132.929993</td>\n",
              "      <td>133.410004</td>\n",
              "      <td>68711000</td>\n",
              "      <td>0</td>\n",
              "      <td>0</td>\n",
              "    </tr>\n",
              "    <tr>\n",
              "      <th>2021-06-25</th>\n",
              "      <td>133.460007</td>\n",
              "      <td>133.889999</td>\n",
              "      <td>132.809998</td>\n",
              "      <td>133.110001</td>\n",
              "      <td>70730700</td>\n",
              "      <td>0</td>\n",
              "      <td>0</td>\n",
              "    </tr>\n",
              "    <tr>\n",
              "      <th>2021-06-28</th>\n",
              "      <td>133.410004</td>\n",
              "      <td>135.250000</td>\n",
              "      <td>133.350006</td>\n",
              "      <td>134.779999</td>\n",
              "      <td>62063700</td>\n",
              "      <td>0</td>\n",
              "      <td>0</td>\n",
              "    </tr>\n",
              "    <tr>\n",
              "      <th>2021-06-29</th>\n",
              "      <td>134.800003</td>\n",
              "      <td>136.490005</td>\n",
              "      <td>134.350006</td>\n",
              "      <td>136.330002</td>\n",
              "      <td>64556100</td>\n",
              "      <td>0</td>\n",
              "      <td>0</td>\n",
              "    </tr>\n",
              "    <tr>\n",
              "      <th>2021-06-30</th>\n",
              "      <td>136.169998</td>\n",
              "      <td>137.410004</td>\n",
              "      <td>135.869995</td>\n",
              "      <td>136.960007</td>\n",
              "      <td>63261400</td>\n",
              "      <td>0</td>\n",
              "      <td>0</td>\n",
              "    </tr>\n",
              "  </tbody>\n",
              "</table>\n",
              "</div>"
            ],
            "text/plain": [
              "                  Open        High  ...  Dividends  Stock Splits\n",
              "Date                                ...                         \n",
              "2021-06-01  125.080002  125.349998  ...          0             0\n",
              "2021-06-02  124.279999  125.239998  ...          0             0\n",
              "2021-06-03  124.680000  124.849998  ...          0             0\n",
              "2021-06-04  124.070000  126.160004  ...          0             0\n",
              "2021-06-07  126.169998  126.320000  ...          0             0\n",
              "2021-06-08  126.599998  128.460007  ...          0             0\n",
              "2021-06-09  127.209999  127.750000  ...          0             0\n",
              "2021-06-10  127.019997  128.190002  ...          0             0\n",
              "2021-06-11  126.529999  127.440002  ...          0             0\n",
              "2021-06-14  127.820000  130.539993  ...          0             0\n",
              "2021-06-15  129.940002  130.600006  ...          0             0\n",
              "2021-06-16  130.369995  130.889999  ...          0             0\n",
              "2021-06-17  129.800003  132.550003  ...          0             0\n",
              "2021-06-18  130.710007  131.509995  ...          0             0\n",
              "2021-06-21  130.300003  132.410004  ...          0             0\n",
              "2021-06-22  132.130005  134.080002  ...          0             0\n",
              "2021-06-23  133.770004  134.320007  ...          0             0\n",
              "2021-06-24  134.449997  134.639999  ...          0             0\n",
              "2021-06-25  133.460007  133.889999  ...          0             0\n",
              "2021-06-28  133.410004  135.250000  ...          0             0\n",
              "2021-06-29  134.800003  136.490005  ...          0             0\n",
              "2021-06-30  136.169998  137.410004  ...          0             0\n",
              "\n",
              "[22 rows x 7 columns]"
            ]
          },
          "metadata": {
            "tags": []
          },
          "execution_count": 12
        }
      ]
    },
    {
      "cell_type": "code",
      "metadata": {
        "colab": {
          "base_uri": "https://localhost:8080/"
        },
        "id": "A1HZPmmQmEXk",
        "outputId": "1c3a40f2-3106-4cd9-b94c-92c4d5517001"
      },
      "source": [
        "df.count()"
      ],
      "execution_count": 15,
      "outputs": [
        {
          "output_type": "execute_result",
          "data": {
            "text/plain": [
              "Open            22\n",
              "High            22\n",
              "Low             22\n",
              "Close           22\n",
              "Volume          22\n",
              "Dividends       22\n",
              "Stock Splits    22\n",
              "dtype: int64"
            ]
          },
          "metadata": {
            "tags": []
          },
          "execution_count": 15
        }
      ]
    }
  ]
}